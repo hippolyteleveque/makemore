{
 "cells": [
  {
   "cell_type": "code",
   "execution_count": 1,
   "id": "91bb207c-c309-40dd-a6f2-39230992dfcd",
   "metadata": {},
   "outputs": [],
   "source": [
    "import os\n",
    "import torch"
   ]
  },
  {
   "cell_type": "code",
   "execution_count": 2,
   "id": "4f7a170f-12e0-4c7e-99ee-2e91c69a0a06",
   "metadata": {},
   "outputs": [],
   "source": [
    "names = open(\"./names.txt\", \"r+\").read().splitlines()"
   ]
  },
  {
   "cell_type": "code",
   "execution_count": 3,
   "id": "7548c873-0c58-4800-957b-a9d9721964bb",
   "metadata": {},
   "outputs": [],
   "source": [
    "chars = sorted(list(set(\"\".join(names))))\n",
    "stoi = {s: i+1 for i, s in enumerate(chars)}\n",
    "stoi[\".\"] = 0\n",
    "itos = {i:s for s, i in stoi.items()}"
   ]
  },
  {
   "cell_type": "code",
   "execution_count": 41,
   "id": "11680def-4437-4ae3-9d39-11800c5ab69e",
   "metadata": {},
   "outputs": [],
   "source": [
    "block_size = 5\n",
    "\n",
    "X, Y = [], []\n",
    "\n",
    "for name in names:\n",
    "    context = [0] * block_size\n",
    "    for c in name + \".\":\n",
    "        ix = stoi[c]\n",
    "        X.append(context)\n",
    "        Y.append(ix)\n",
    "        context = context[1:] + [ix]        \n",
    "\n",
    "X = torch.tensor(X)\n",
    "Y = torch.tensor(Y)"
   ]
  },
  {
   "cell_type": "code",
   "execution_count": 47,
   "id": "d2c1bf43-63fa-4195-ae53-09f70bddcee2",
   "metadata": {},
   "outputs": [],
   "source": [
    "def build_dataset(names):\n",
    "\n",
    "    X, Y = [], []\n",
    "    \n",
    "    for name in names:\n",
    "        context = [0] * block_size\n",
    "        for c in name + \".\":\n",
    "            ix = stoi[c]\n",
    "            X.append(context)\n",
    "            Y.append(ix)\n",
    "            context = context[1:] + [ix]        \n",
    "    \n",
    "    X = torch.tensor(X)\n",
    "    Y = torch.tensor(Y)\n",
    "    return X, Y\n",
    "\n",
    "import random\n",
    "random.seed(42)\n",
    "random.shuffle(names)\n",
    "n1 = int(0.8 * len(names))\n",
    "n2 = int(0.9 * len(names))\n",
    "Xtr, Ytr = build_dataset(names[:n1])\n",
    "Xdev, Ydev = build_dataset(names[n1:n2])\n",
    "Xtest, Ytest = build_dataset(names[n2:])"
   ]
  },
  {
   "cell_type": "code",
   "execution_count": 48,
   "id": "bcd38bfa-ade4-40d9-bc68-0b57b149cb98",
   "metadata": {},
   "outputs": [],
   "source": [
    "import torch.nn.functional as F\n",
    "embed_size = 10 #embedding size\n",
    "vocab_size = len(stoi) # vocabulary size\n",
    "n = Y.shape[0] # the number of examples\n",
    "h_size = 100 # dimension of the hidden layer\n",
    "lr = 0.01\n",
    "C = torch.randn((vocab_size, embed_size), requires_grad=True)\n",
    "W1 = torch.randn((block_size * embed_size, h_size), requires_grad=True)\n",
    "b1 = torch.randn(h_size, requires_grad=True)\n",
    "W2 = torch.randn((h_size, vocab_size), requires_grad=True)\n",
    "b2 = torch.randn(vocab_size, requires_grad=True)\n",
    "params = [C, W1, b1, W2, b2]"
   ]
  },
  {
   "cell_type": "code",
   "execution_count": 49,
   "id": "8d50763d-8227-4aa4-b3a1-ffa1c797a3f0",
   "metadata": {},
   "outputs": [],
   "source": [
    "#lre = torch.linspace(-3, 0, 1000)\n",
    "#lrs = 10 ** lre"
   ]
  },
  {
   "cell_type": "code",
   "execution_count": 50,
   "id": "a0b8322f-b2f7-4197-98fc-60fb04bc0f01",
   "metadata": {},
   "outputs": [],
   "source": [
    "from tqdm import tqdm"
   ]
  },
  {
   "cell_type": "code",
   "execution_count": 56,
   "id": "879a1c5f-6378-460b-968a-396a121b2895",
   "metadata": {},
   "outputs": [
    {
     "name": "stderr",
     "output_type": "stream",
     "text": [
      "100%|████████████████████| 200000/200000 [01:44<00:00, 1912.23it/s]"
     ]
    },
    {
     "name": "stdout",
     "output_type": "stream",
     "text": [
      "1.8663408756256104\n"
     ]
    },
    {
     "name": "stderr",
     "output_type": "stream",
     "text": [
      "\n"
     ]
    }
   ],
   "source": [
    "stepis = []\n",
    "lossi = []\n",
    "\n",
    "for i in tqdm(range(200000)):\n",
    "    ix = torch.randint(0, Xtr.shape[0], (32, )) # minibatch idx\n",
    "    X_batch = Xtr[ix]\n",
    "    Y_batch = Ytr[ix]\n",
    "    # Forward\n",
    "    E = C[X_batch]\n",
    "    h = E.view(-1, block_size * embed_size) @ W1 + b1\n",
    "    h = torch.tanh(h)\n",
    "    logits = h @ W2 + b2\n",
    "    loss = F.cross_entropy(logits, Y_batch)\n",
    "\n",
    "    for p in params:\n",
    "        p.grad = None # zero grad\n",
    "    loss.backward() # backward pass\n",
    "    for p in params:\n",
    "        p.data -= 0.01 * p.grad\n",
    "    stepis.append(i)\n",
    "    lossi.append(loss.log10().item())\n",
    "print(loss.item())"
   ]
  },
  {
   "cell_type": "code",
   "execution_count": 57,
   "id": "f19948fc-665e-49b9-a147-fbaba2bec276",
   "metadata": {},
   "outputs": [],
   "source": [
    "from matplotlib import pyplot as plt"
   ]
  },
  {
   "cell_type": "code",
   "execution_count": 58,
   "id": "5bf2200b-f339-4752-9aa4-1d90f130fd54",
   "metadata": {},
   "outputs": [
    {
     "data": {
      "text/plain": [
       "[<matplotlib.lines.Line2D at 0x11c577250>]"
      ]
     },
     "execution_count": 58,
     "metadata": {},
     "output_type": "execute_result"
    },
    {
     "data": {
      "image/png": "[encoded data removed]",
      "text/plain": [
       "<Figure size 640x480 with 1 Axes>"
      ]
     },
     "metadata": {},
     "output_type": "display_data"
    }
   ],
   "source": [
    "plt.plot(stepis, lossi)"
   ]
  },
  {
   "cell_type": "code",
   "execution_count": 59,
   "id": "8d319a3a-834e-4e72-a30b-7b77833f2e9b",
   "metadata": {},
   "outputs": [
    {
     "name": "stdout",
     "output_type": "stream",
     "text": [
      "2.1690778732299805\n"
     ]
    }
   ],
   "source": [
    "E = C[Xdev]\n",
    "h = E.view(-1, block_size * embed_size) @ W1 + b1\n",
    "h = torch.tanh(h)\n",
    "logits = h @ W2 + b2\n",
    "loss = F.cross_entropy(logits, Ydev)\n",
    "print(loss.item()) # total loss"
   ]
  },
  {
   "cell_type": "code",
   "execution_count": 60,
   "id": "54dafa39-2b1e-4d64-8391-31adc8703464",
   "metadata": {},
   "outputs": [],
   "source": [
    "# sampling"
   ]
  },
  {
   "cell_type": "code",
   "execution_count": 113,
   "id": "c7844d63-c188-4569-a8e7-1f8faf86c9ef",
   "metadata": {},
   "outputs": [],
   "source": [
    "def sample():\n",
    "    context = [0] * block_size\n",
    "    context = context\n",
    "    res = \"\"\n",
    "    while True:\n",
    "        E = C[context]\n",
    "        h = E.view(-1, block_size * embed_size) @ W1 + b1\n",
    "        h = torch.tanh(h)\n",
    "        logits = h @ W2 + b2\n",
    "        probs = F.softmax(logits)\n",
    "        ix = torch.multinomial(probs, num_samples=1).item()\n",
    "        if ix == 0:\n",
    "            break\n",
    "        res += itos[ix]\n",
    "        context = context[1:] + [ix]\n",
    "    return res"
   ]
  },
  {
   "cell_type": "code",
   "execution_count": 122,
   "id": "f98de93a-0cd0-4a9f-b0f9-0166351cf6f1",
   "metadata": {},
   "outputs": [
    {
     "name": "stderr",
     "output_type": "stream",
     "text": [
      "/var/folders/yw/_q0c7_715496fszpj84k_tb00000gn/T/ipykernel_90696/159107022.py:10: UserWarning: Implicit dimension choice for softmax has been deprecated. Change the call to include dim=X as an argument.\n",
      "  probs = F.softmax(logits)\n"
     ]
    },
    {
     "data": {
      "text/plain": [
       "'roris'"
      ]
     },
     "execution_count": 122,
     "metadata": {},
     "output_type": "execute_result"
    }
   ],
   "source": [
    "sample()"
   ]
  },
  {
   "cell_type": "code",
   "execution_count": null,
   "id": "60a9ded0-fb6a-41c1-b771-0b8531cfb8a4",
   "metadata": {},
   "outputs": [],
   "source": []
  }
 ],
 "metadata": {
  "kernelspec": {
   "display_name": "llm-env",
   "language": "python",
   "name": "llm-env"
  },
  "language_info": {
   "codemirror_mode": {
    "name": "ipython",
    "version": 3
   },
   "file_extension": ".py",
   "mimetype": "text/x-python",
   "name": "python",
   "nbconvert_exporter": "python",
   "pygments_lexer": "ipython3",
   "version": "3.11.6"
  }
 },
 "nbformat": 4,
 "nbformat_minor": 5
}
