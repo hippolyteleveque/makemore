{
 "cells": [
  {
   "cell_type": "code",
   "execution_count": 82,
   "id": "91bb207c-c309-40dd-a6f2-39230992dfcd",
   "metadata": {},
   "outputs": [],
   "source": [
    "import os\n",
    "import torch\n",
    "import matplotlib.pyplot as plt\n",
    "from tqdm import tqdm\n",
    "from torch import nn "
   ]
  },
  {
   "cell_type": "code",
   "execution_count": 2,
   "id": "4f7a170f-12e0-4c7e-99ee-2e91c69a0a06",
   "metadata": {},
   "outputs": [],
   "source": [
    "names = open(\"./names.txt\", \"r+\").read().splitlines()"
   ]
  },
  {
   "cell_type": "code",
   "execution_count": 3,
   "id": "7548c873-0c58-4800-957b-a9d9721964bb",
   "metadata": {},
   "outputs": [],
   "source": [
    "chars = sorted(list(set(\"\".join(names))))\n",
    "stoi = {s: i+1 for i, s in enumerate(chars)}\n",
    "stoi[\".\"] = 0\n",
    "itos = {i:s for s, i in stoi.items()}"
   ]
  },
  {
   "cell_type": "code",
   "execution_count": 4,
   "id": "11680def-4437-4ae3-9d39-11800c5ab69e",
   "metadata": {},
   "outputs": [],
   "source": [
    "block_size = 5\n",
    "\n",
    "X, Y = [], []\n",
    "\n",
    "for name in names:\n",
    "    context = [0] * block_size\n",
    "    for c in name + \".\":\n",
    "        ix = stoi[c]\n",
    "        X.append(context)\n",
    "        Y.append(ix)\n",
    "        context = context[1:] + [ix]        \n",
    "\n",
    "X = torch.tensor(X)\n",
    "Y = torch.tensor(Y)"
   ]
  },
  {
   "cell_type": "code",
   "execution_count": 5,
   "id": "d2c1bf43-63fa-4195-ae53-09f70bddcee2",
   "metadata": {},
   "outputs": [],
   "source": [
    "def build_dataset(names):\n",
    "\n",
    "    X, Y = [], []\n",
    "    \n",
    "    for name in names:\n",
    "        context = [0] * block_size\n",
    "        for c in name + \".\":\n",
    "            ix = stoi[c]\n",
    "            X.append(context)\n",
    "            Y.append(ix)\n",
    "            context = context[1:] + [ix]        \n",
    "    \n",
    "    X = torch.tensor(X)\n",
    "    Y = torch.tensor(Y)\n",
    "    return X, Y\n",
    "\n",
    "import random\n",
    "random.seed(42)\n",
    "random.shuffle(names)\n",
    "n1 = int(0.8 * len(names))\n",
    "n2 = int(0.9 * len(names))\n",
    "Xtr, Ytr = build_dataset(names[:n1])\n",
    "Xdev, Ydev = build_dataset(names[n1:n2])\n",
    "Xtest, Ytest = build_dataset(names[n2:])"
   ]
  },
  {
   "cell_type": "code",
   "execution_count": 75,
   "id": "bcd38bfa-ade4-40d9-bc68-0b57b149cb98",
   "metadata": {},
   "outputs": [],
   "source": [
    "import torch.nn.functional as F\n",
    "embed_size = 10 #embedding size\n",
    "vocab_size = len(stoi) # vocabulary size\n",
    "n = Y.shape[0] # the number of examples\n",
    "h_size = 100 # dimension of the hidden layer\n",
    "lr = 0.01\n",
    "C = torch.randn((vocab_size, embed_size))\n",
    "W1 = torch.randn((block_size * embed_size, h_size)) * (5/3) / ((block_size * embed_size))**0.5 #kaiming init\n",
    "b1 = torch.randn(h_size) * 0.01\n",
    "W2 = torch.randn((h_size, vocab_size)) * 0.01\n",
    "b2 = torch.randn(vocab_size) * 0\n",
    "bnbias = torch.zeros((1, h_size)) # batch norm bias\n",
    "bngain = torch.ones((1, h_size)) # batch norm gain\n",
    "bnmean_running = torch.zeros((1, h_size))\n",
    "bnstd_running = torch.ones((1, h_size))\n",
    "\n",
    "\n",
    "params = [C, W1, b1, W2, b2, bnbias, bngain]"
   ]
  },
  {
   "cell_type": "code",
   "execution_count": 76,
   "id": "c06f74f2-fdca-427f-ab5d-43b7facfc436",
   "metadata": {},
   "outputs": [],
   "source": [
    "for p in params:\n",
    "    p.requires_grad = True"
   ]
  },
  {
   "cell_type": "code",
   "execution_count": 78,
   "id": "879a1c5f-6378-460b-968a-396a121b2895",
   "metadata": {},
   "outputs": [
    {
     "name": "stderr",
     "output_type": "stream",
     "text": [
      "100%|████████████████████| 200000/200000 [03:07<00:00, 1067.84it/s]"
     ]
    },
    {
     "name": "stdout",
     "output_type": "stream",
     "text": [
      "1.6754498481750488\n"
     ]
    },
    {
     "name": "stderr",
     "output_type": "stream",
     "text": [
      "\n"
     ]
    }
   ],
   "source": [
    "stepis = []\n",
    "lossi = []\n",
    "\n",
    "for i in tqdm(range(200000)):\n",
    "    ix = torch.randint(0, Xtr.shape[0], (32, )) # minibatch idx\n",
    "    X_batch = Xtr[ix]\n",
    "    Y_batch = Ytr[ix]\n",
    "    # Forward\n",
    "    E = C[X_batch]\n",
    "    preact = E.view(-1, block_size * embed_size) @ W1 + b1\n",
    "    # batch norm \n",
    "    bnbiasi = preact.mean(axis=0, keepdim=True)\n",
    "    bnstdi = preact.std(axis=0, keepdims=True)\n",
    "    preact = bngain * (preact - bnbiasi) / bnstdi + bnbias\n",
    "    h = torch.tanh(preact)\n",
    "    logits = h @ W2 + b2\n",
    "    loss = F.cross_entropy(logits, Y_batch)\n",
    "\n",
    "    with torch.no_grad():\n",
    "        bnmean_running = bnmean_running * 0.999 + 0.001 * bnbiasi\n",
    "        bnstd_running = bnstd_running * 0.999 + 0.001 * bnstdi\n",
    "\n",
    "    for p in params:\n",
    "        p.grad = None # zero grad\n",
    "    loss.backward() # backward pass\n",
    "    lr = 0.1 if i < 150000 else 0.01\n",
    "    for p in params:\n",
    "        p.data -= 0.1 * p.grad\n",
    "    stepis.append(i)\n",
    "    lossi.append(loss.log10().item())\n",
    "print(loss.item())"
   ]
  },
  {
   "cell_type": "code",
   "execution_count": 84,
   "id": "6c232f36-1759-45ad-a860-15769bd91c75",
   "metadata": {},
   "outputs": [
    {
     "data": {
      "text/plain": [
       "tensor([-1.0526,  0.0955, -0.3726,  1.1867, -0.1083, -0.9715,  0.7495,  0.7358,\n",
       "         0.1314,  1.2050], grad_fn=<EmbeddingBackward0>)"
      ]
     },
     "execution_count": 84,
     "metadata": {},
     "output_type": "execute_result"
    }
   ],
   "source": [
    "embed = nn.Embedding(10, 10)\n",
    "embed(torch.tensor(3))"
   ]
  },
  {
   "cell_type": "code",
   "execution_count": null,
   "id": "7bdcf391-1653-48e7-ac68-68bf9a18ad36",
   "metadata": {},
   "outputs": [],
   "source": []
  },
  {
   "cell_type": "markdown",
   "id": "5f2de8ba-cacb-4dc8-89df-3311f6dc4343",
   "metadata": {},
   "source": [
    "### Pytorch"
   ]
  },
  {
   "cell_type": "code",
   "execution_count": 108,
   "id": "1e9a29d8-7a4c-48ec-89ca-f691e4e651d8",
   "metadata": {},
   "outputs": [
    {
     "name": "stderr",
     "output_type": "stream",
     "text": [
      "100%|████████████████████| 200000/200000 [02:43<00:00, 1225.66it/s]\n"
     ]
    }
   ],
   "source": [
    "# pytorch\n",
    "\n",
    "# \n",
    "class Makemore(nn.Module):\n",
    "\n",
    "    def __init__(self, vocab_size, embed_size, hidden_size, block_size):\n",
    "        super().__init__()\n",
    "        self.vocab_size = vocab_size\n",
    "        self.embed_size = embed_size\n",
    "        self.hidden_size = hidden_size\n",
    "        self.block_size = block_size\n",
    "        self.embeddings = nn.Embedding(vocab_size, embed_size)\n",
    "        self.linear1 = nn.Linear(embed_size * block_size, hidden_size, bias=False)\n",
    "        self.act = nn.Tanh()\n",
    "        self.batchnorm = nn.BatchNorm1d(hidden_size)\n",
    "        self.linear2 = nn.Linear(hidden_size, vocab_size)\n",
    "        \n",
    "\n",
    "    def forward(self, X):\n",
    "        Z = self.embeddings(X)\n",
    "        Z = self.linear1(Z.view(-1, self.block_size * self.embed_size))\n",
    "        Z = self.batchnorm(Z)\n",
    "        Z = self.act(Z)\n",
    "        Z = self.linear2(Z)\n",
    "        return Z\n",
    "\n",
    "\n",
    "model = Makemore(vocab_size=vocab_size,embed_size=embed_size,hidden_size=h_size, block_size=block_size)\n",
    "\n",
    "# training loop\n",
    "model.train()\n",
    "for i in tqdm(range(200000)):\n",
    "    ix = torch.randint(0, Xtr.shape[0], (32, )) # minibatch idx\n",
    "    X_batch = Xtr[ix]\n",
    "    Y_batch = Ytr[ix]\n",
    "    # Forward\n",
    "    logits = model(X_batch)\n",
    "    loss = F.cross_entropy(logits, Y_batch)\n",
    "\n",
    "    for p in model.parameters():\n",
    "        p.grad = None # zero grad\n",
    "    loss.backward() # backward pass\n",
    "    lr = 0.1 if i < 150000 else 0.01\n",
    "    for p in model.parameters():\n",
    "        p.data -= 0.1 * p.grad\n",
    "    stepis.append(i)\n",
    "    lossi.append(loss.log10().item())"
   ]
  },
  {
   "cell_type": "code",
   "execution_count": 109,
   "id": "302cad63-678c-41ac-b2d1-cceeded498a8",
   "metadata": {},
   "outputs": [
    {
     "data": {
      "text/plain": [
       "[<matplotlib.lines.Line2D at 0x124dd7510>]"
      ]
     },
     "execution_count": 109,
     "metadata": {},
     "output_type": "execute_result"
    },
    {
     "data": {
      "image/png": "[encoded data removed]",
      "text/plain": [
       "<Figure size 640x480 with 1 Axes>"
      ]
     },
     "metadata": {},
     "output_type": "display_data"
    }
   ],
   "source": [
    "plt.plot(stepis, lossi)"
   ]
  },
  {
   "cell_type": "code",
   "execution_count": 112,
   "id": "a25da5ea-f4b7-4f73-b7c7-63fc7449009e",
   "metadata": {},
   "outputs": [],
   "source": [
    "# pytorch eval code\n",
    "model.eval()\n",
    "@torch.no_grad()\n",
    "def split_loss(split):\n",
    "    x, y = {\"train\": (Xtr, Ytr), \"dev\": (Xdev, Ydev), \"test\": (Xtest, Ytest)}[split]\n",
    "    logits = model(x)\n",
    "    loss = F.cross_entropy(logits, y)\n",
    "    return loss.item() # total loss\n",
    "    "
   ]
  },
  {
   "cell_type": "code",
   "execution_count": 116,
   "id": "d2e6df05-bf85-489b-b9c4-258c06ebd1c2",
   "metadata": {},
   "outputs": [
    {
     "data": {
      "text/plain": [
       "2.0680458545684814"
      ]
     },
     "execution_count": 116,
     "metadata": {},
     "output_type": "execute_result"
    }
   ],
   "source": [
    "split_loss(\"train\")"
   ]
  },
  {
   "cell_type": "code",
   "execution_count": 25,
   "id": "0167c3bb-bc02-434f-8323-613f667b65b8",
   "metadata": {},
   "outputs": [
    {
     "data": {
      "text/plain": [
       "tensor([-13.2262,  10.0456, -11.1457,   4.6879,  10.9535,  -2.1740, -10.1629,\n",
       "          0.6027,   8.6200,   9.4202,  -1.0639,   5.1765,  -6.2587,  -0.1037,\n",
       "         -1.0372,  14.1808,   4.6826, -16.1674,  -8.7546,   7.3978,  -0.6505,\n",
       "          9.5422,  -2.2976,  -2.6281,  -5.1374, -10.4111,  14.0705],\n",
       "       grad_fn=<SelectBackward0>)"
      ]
     },
     "execution_count": 25,
     "metadata": {},
     "output_type": "execute_result"
    }
   ],
   "source": [
    "logits[0]"
   ]
  },
  {
   "cell_type": "code",
   "execution_count": 80,
   "id": "8d319a3a-834e-4e72-a30b-7b77833f2e9b",
   "metadata": {},
   "outputs": [],
   "source": [
    "@torch.no_grad()\n",
    "def split_loss(split):\n",
    "    x, y = {\"train\": (Xtr, Ytr), \"dev\": (Xdev, Ydev), \"test\": (Xtest, Ytest)}[split]\n",
    "    E = C[x]\n",
    "    preact = E.view(-1, block_size * embed_size) @ W1 + b1\n",
    "    preact = bngain * (preact - bngain_running) / bnstd_running + bnbias\n",
    "    h = torch.tanh(preact)\n",
    "    logits = h @ W2 + b2\n",
    "    loss = F.cross_entropy(logits, y)\n",
    "    return loss.item() # total loss"
   ]
  },
  {
   "cell_type": "code",
   "execution_count": 81,
   "id": "f05d6b5e-3988-4d67-8a2c-e4ec025d8a96",
   "metadata": {},
   "outputs": [
    {
     "name": "stdout",
     "output_type": "stream",
     "text": [
      "2.4790005683898926\n",
      "2.500147819519043\n"
     ]
    }
   ],
   "source": [
    "print(split_loss(\"train\"))\n",
    "print(split_loss(\"dev\"))"
   ]
  },
  {
   "cell_type": "code",
   "execution_count": 60,
   "id": "54dafa39-2b1e-4d64-8391-31adc8703464",
   "metadata": {},
   "outputs": [],
   "source": [
    "# sampling"
   ]
  },
  {
   "cell_type": "code",
   "execution_count": 113,
   "id": "c7844d63-c188-4569-a8e7-1f8faf86c9ef",
   "metadata": {},
   "outputs": [],
   "source": [
    "def sample():\n",
    "    context = [0] * block_size\n",
    "    context = context\n",
    "    res = \"\"\n",
    "    while True:\n",
    "        E = C[context]\n",
    "        h = E.view(-1, block_size * embed_size) @ W1 + b1\n",
    "        h = torch.tanh(h)\n",
    "        logits = h @ W2 + b2\n",
    "        probs = F.softmax(logits)\n",
    "        ix = torch.multinomial(probs, num_samples=1).item()\n",
    "        if ix == 0:\n",
    "            break\n",
    "        res += itos[ix]\n",
    "        context = context[1:] + [ix]\n",
    "    return res"
   ]
  },
  {
   "cell_type": "code",
   "execution_count": 122,
   "id": "f98de93a-0cd0-4a9f-b0f9-0166351cf6f1",
   "metadata": {},
   "outputs": [
    {
     "name": "stderr",
     "output_type": "stream",
     "text": [
      "/var/folders/yw/_q0c7_715496fszpj84k_tb00000gn/T/ipykernel_90696/159107022.py:10: UserWarning: Implicit dimension choice for softmax has been deprecated. Change the call to include dim=X as an argument.\n",
      "  probs = F.softmax(logits)\n"
     ]
    },
    {
     "data": {
      "text/plain": [
       "'roris'"
      ]
     },
     "execution_count": 122,
     "metadata": {},
     "output_type": "execute_result"
    }
   ],
   "source": [
    "sample()"
   ]
  },
  {
   "cell_type": "code",
   "execution_count": 119,
   "id": "60a9ded0-fb6a-41c1-b771-0b8531cfb8a4",
   "metadata": {},
   "outputs": [],
   "source": [
    "from abc import ABC, abstractmethod\n",
    "\n",
    "class Module(ABC):\n",
    "\n",
    "    @abstractmethod\n",
    "    def __call__(self, X):\n",
    "        pass\n",
    "\n",
    "    @abstractmethod\n",
    "    def parameters(self):\n",
    "        pass\n",
    "\n",
    "\n",
    "class Linear(Module):\n",
    "\n",
    "    def __init__(din, dout, bias=True):\n",
    "        self.W = torch.randn((din, dout)) / (din ** 0.5)\n",
    "        self.b = torch.zeros((1, dout)) if bias else None\n",
    "\n",
    "    def __call__(self, X):\n",
    "        out = X @ self.W\n",
    "        if self.b is not None:\n",
    "            out += self.b\n",
    "        return out\n",
    "\n",
    "    def parameters(self):\n",
    "        return [self.W] + ([] if self.b is None else [self.b])\n",
    "\n",
    "\n",
    "class BatchNorm1D(Module):\n",
    "\n",
    "    def __init__(dim, momentum=0.1, eps=1e-5):\n",
    "        self.train = True\n",
    "        self.momentum = momentum\n",
    "        self.eps = eps\n",
    "        self.gamma = torch.ones((1, dim)) \n",
    "        self.beta = torch.zeros((1, dim))\n",
    "        self.running_mean = torch.zeros((1, dim))\n",
    "        self.running_var = torch.ones((1, dim))\n",
    "\n",
    "    def __call__(X):\n",
    "        if not self.train: # we are using the evaluated parameters\n",
    "            out = self.gamma * (X - self.running_mean) / torch.sqrt(self.running_var + self.eps)  + self.beta\n",
    "            return out\n",
    "        batch_mean = X.mean(axis=0, keep_dims=True)\n",
    "        batch_var = X.var(axis=0, keep_dims=True)\n",
    "        if self.train:\n",
    "            with torch.no_grad():\n",
    "                self.running_mean = self.running_mean * (1 - self.momentum) + batch_mean * self.momentum\n",
    "                self.running_var = self.running_var * (1 - self.momentum) + batch_var * self.momentum\n",
    "        out = self.gamma * (X - batch_mean) / torch.sqrt(batch_var + self.eps) + self.beta\n",
    "        return out\n",
    "\n",
    "    def parameters(self):\n",
    "        return [self.beta, self.gamma]\n",
    "\n",
    "class Tanh(Module):\n",
    "\n",
    "    def __call__(self, X):\n",
    "        out = torch.tanh(X)\n",
    "        return out\n",
    "\n",
    "    def parameters(self):\n",
    "        return []\n"
   ]
  },
  {
   "cell_type": "code",
   "execution_count": null,
   "id": "9892b538-e8bd-4ddb-85fa-032df61c3b7e",
   "metadata": {},
   "outputs": [],
   "source": []
  }
 ],
 "metadata": {
  "kernelspec": {
   "display_name": "llm-env",
   "language": "python",
   "name": "llm-env"
  },
  "language_info": {
   "codemirror_mode": {
    "name": "ipython",
    "version": 3
   },
   "file_extension": ".py",
   "mimetype": "text/x-python",
   "name": "python",
   "nbconvert_exporter": "python",
   "pygments_lexer": "ipython3",
   "version": "3.11.6"
  }
 },
 "nbformat": 4,
 "nbformat_minor": 5
}
